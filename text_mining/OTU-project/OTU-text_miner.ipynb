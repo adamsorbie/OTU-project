{
 "cells": [
  {
   "cell_type": "code",
   "execution_count": 4,
   "metadata": {
    "collapsed": true,
    "deletable": true,
    "editable": true
   },
   "outputs": [],
   "source": [
    "from Bio import Entrez \n",
    "from Bio import Medline\n",
    "#imports functions which mine pubmed data \n",
    "\n",
    "import pandas as pd \n",
    "# inports pandas for df handling \n",
    "\n",
    "import json \n",
    "# for writing output \n",
    "\n",
    "import time"
   ]
  },
  {
   "cell_type": "code",
   "execution_count": 5,
   "metadata": {
    "collapsed": true,
    "deletable": true,
    "editable": true
   },
   "outputs": [],
   "source": [
    "df = pd.read_csv('atf6_otu.csv', sep=',', engine='python')\n",
    "df['taxonomy']\n",
    "df_taxonomy = df['taxonomy'].apply(lambda x: pd.Series(x.split(';')))\n",
    "\n",
    "Class = []\n",
    "Order = []\n",
    "Family = []\n",
    "Genus = []\n",
    "Species = []\n",
    "\n",
    "\n",
    "def list_appender(lists, index): \n",
    "    full_list = []\n",
    "    for x in df_taxonomy[index]:\n",
    "        full_list.append(x)\n",
    "        for x in full_list:\n",
    "            if x not in lists:\n",
    "                lists.append(x)\n",
    "        for x in lists: \n",
    "            if x == '':\n",
    "                lists.remove(x) \n",
    "        unknowns = ['Unknown Phylum', 'Unknown Class', 'Unknown Order', 'Unknown Family', 'Unknown Genus', 'Unknown Species']\n",
    "        for x in lists: \n",
    "            if x in unknowns:\n",
    "                lists.remove(x)\n",
    "\n",
    "list_appender(Class, 2)\n",
    "list_appender(Order, 3)\n",
    "list_appender(Family, 4)\n",
    "list_appender(Genus, 5)\n",
    "list_appender(Species, 6)"
   ]
  },
  {
   "cell_type": "code",
   "execution_count": 6,
   "metadata": {
    "collapsed": false,
    "deletable": true,
    "editable": true
   },
   "outputs": [
    {
     "name": "stdout",
     "output_type": "stream",
     "text": [
      "Enter disease/phenotype of interest: colorectal cancer\n",
      "['Clostridia colorectal cancer', 'Bacteroidia colorectal cancer', 'Mollicutes colorectal cancer', 'Deltaproteobacteria colorectal cancer', 'Betaproteobacteria colorectal cancer', 'Melainabacteria colorectal cancer', 'Erysipelotrichia colorectal cancer', 'Bacilli colorectal cancer', 'Verrucomicrobiae colorectal cancer', 'Deferribacteres colorectal cancer', 'Alphaproteobacteria colorectal cancer', 'Clostridiales colorectal cancer', 'Bacteroidales colorectal cancer', 'Anaeroplasmatales colorectal cancer', 'Desulfovibrionales colorectal cancer', 'Burkholderiales colorectal cancer', 'Gastranaerophilales colorectal cancer', 'Erysipelotrichales colorectal cancer', 'Lactobacillales colorectal cancer', 'Verrucomicrobiales colorectal cancer', 'Deferribacterales colorectal cancer', 'Rhodospirillales colorectal cancer', 'Lachnospiraceae colorectal cancer', 'Ruminococcaceae colorectal cancer', 'S24-7 colorectal cancer', 'Defluviitaleaceae colorectal cancer', 'Porphyromonadaceae colorectal cancer', 'Anaeroplasmataceae colorectal cancer', 'Desulfovibrionaceae colorectal cancer', 'Peptococcaceae colorectal cancer', 'Alcaligenaceae colorectal cancer', 'Erysipelotrichaceae colorectal cancer', 'Peptostreptococcaceae colorectal cancer', 'Rikenellaceae colorectal cancer', 'Bacteroidaceae colorectal cancer', 'Lactobacillaceae colorectal cancer', 'Verrucomicrobiaceae colorectal cancer', 'Deferribacteraceae colorectal cancer', 'Prevotellaceae colorectal cancer', 'Clostridiaceae 1 colorectal cancer', 'Rhodospirillaceae colorectal cancer', 'Anaerotruncus colorectal cancer', 'Blautia colorectal cancer', 'Parabacteroides colorectal cancer', 'Anaeroplasma colorectal cancer', 'Desulfovibrio colorectal cancer', 'Roseburia colorectal cancer', 'Bilophila colorectal cancer', 'Candidatus Saccharimonas colorectal cancer', 'Ruminococcus colorectal cancer', 'Parasutterella colorectal cancer', 'Turicibacter colorectal cancer', 'Alistipes colorectal cancer', 'Allobaculum colorectal cancer', 'Bacteroides colorectal cancer', 'Lactobacillus colorectal cancer', 'Akkermansia colorectal cancer', 'Mucispirillum colorectal cancer', 'Oscillibacter colorectal cancer', 'Rikenella colorectal cancer', 'Odoribacter colorectal cancer', 'Marvinbryantia colorectal cancer', 'Candidatus Arthromitus colorectal cancer', 'Thalassospira colorectal cancer']\n"
     ]
    }
   ],
   "source": [
    "taxa = Class + Order + Family + Genus + Species\n",
    "search_term = input(\"Enter disease/phenotype of interest: \")\n",
    "\n",
    "\n",
    "keyword = [s + \" \" + search_term for s in taxa]\n",
    "print(keyword)"
   ]
  },
  {
   "cell_type": "code",
   "execution_count": 10,
   "metadata": {
    "collapsed": true,
    "deletable": true,
    "editable": true
   },
   "outputs": [],
   "source": [
    "def search(keyword):\n",
    "    keyword = ','.join(keyword)\n",
    "    for term in keyword:\n",
    "        Entrez.email = 'adam.sorbie@tum.de'\n",
    "        handle = Entrez.esearch(db='pubmed', \n",
    "                                sort='relevance', \n",
    "                                retmax='100',\n",
    "                                retmode='xml', \n",
    "                                term=keyword)\n",
    "        time.sleep(3)\n",
    "    results = Entrez.read(handle)\n",
    "    return results\n",
    "# search "
   ]
  },
  {
   "cell_type": "code",
   "execution_count": 11,
   "metadata": {
    "collapsed": true,
    "deletable": true,
    "editable": true
   },
   "outputs": [],
   "source": [
    "def pubmed_fetch(id_list):\n",
    "    ids = ','.join(id_list)\n",
    "    Entrez.email = 'adam.sorbie@tum.de'\n",
    "    handle = Entrez.efetch(db='pubmed',\n",
    "                           retmode='xml',\n",
    "                           id=ids)\n",
    "    results = Entrez.read(handle)\n",
    "    return results"
   ]
  },
  {
   "cell_type": "code",
   "execution_count": null,
   "metadata": {
    "collapsed": false,
    "deletable": true,
    "editable": true
   },
   "outputs": [],
   "source": [
    "results = search(keyword)\n",
    "id_list = results['IdList']\n",
    "print(id_list)\n",
    "papers = pubmed_fetch(id_list)\n",
    "print(json.dumps(papers, indent=4, separators=(',',':')))\n",
    "with open('Results.txt', 'w') as outfile:\n",
    "    json.dump(papers, outfile)\n",
    "#writes fetched results to JSON file \n",
    "#either convert JSON or write to different filetype as JSON not very readable\n"
   ]
  },
  {
   "cell_type": "code",
   "execution_count": null,
   "metadata": {
    "collapsed": true,
    "deletable": true,
    "editable": true
   },
   "outputs": [],
   "source": []
  }
 ],
 "metadata": {
  "kernelspec": {
   "display_name": "Python 3",
   "language": "python",
   "name": "python3"
  },
  "language_info": {
   "codemirror_mode": {
    "name": "ipython",
    "version": 3
   },
   "file_extension": ".py",
   "mimetype": "text/x-python",
   "name": "python",
   "nbconvert_exporter": "python",
   "pygments_lexer": "ipython3",
   "version": "3.6.1"
  }
 },
 "nbformat": 4,
 "nbformat_minor": 2
}
