{
 "cells": [
  {
   "cell_type": "code",
   "execution_count": 1,
   "metadata": {
    "collapsed": true
   },
   "outputs": [],
   "source": [
    "import pandas as pd "
   ]
  },
  {
   "cell_type": "code",
   "execution_count": 62,
   "metadata": {},
   "outputs": [],
   "source": [
    "df = pd.read_csv('atf6_otu.csv', sep=',', engine='python')"
   ]
  },
  {
   "cell_type": "code",
   "execution_count": 70,
   "metadata": {},
   "outputs": [],
   "source": [
    "df['taxonomy']\n",
    "df_taxonomy = df['taxonomy'].apply(lambda x: pd.Series(x.split(';')))"
   ]
  },
  {
   "cell_type": "code",
   "execution_count": 96,
   "metadata": {},
   "outputs": [],
   "source": [
    "Phylum = []\n",
    "Class = []\n",
    "Order = []\n",
    "Family = []\n",
    "Genus = []\n",
    "Species = []\n",
    "\n",
    "\n",
    "def list_appender(lists, index): \n",
    "    full_list = []\n",
    "    for x in df_taxonomy[index]:\n",
    "        full_list.append(x)\n",
    "        for x in full_list:\n",
    "            if x not in lists:\n",
    "                lists.append(x)\n",
    "        for x in lists: \n",
    "            if x == '':\n",
    "                lists.remove(x) \n",
    "        unknowns = ['Unknown Phylum', 'Unknown Class', 'Unknown Order', 'Unknown Family', 'Unknown Genus', 'Unknown Species']\n",
    "        for x in lists: \n",
    "            if x in unknowns:\n",
    "                lists.remove(x)\n",
    "\n",
    "list_appender(Phylum, 1)\n",
    "list_appender(Class, 2)\n",
    "list_appender(Order, 3)\n",
    "list_appender(Family, 4)\n",
    "list_appender(Genus, 5)\n",
    "list_appender(Species, 6)"
   ]
  },
  {
   "cell_type": "code",
   "execution_count": null,
   "metadata": {},
   "outputs": [],
   "source": []
  },
  {
   "cell_type": "code",
   "execution_count": null,
   "metadata": {
    "collapsed": true
   },
   "outputs": [],
   "source": []
  }
 ],
 "metadata": {
  "kernelspec": {
   "display_name": "Python 3",
   "language": "python",
   "name": "python3"
  },
  "language_info": {
   "codemirror_mode": {
    "name": "ipython",
    "version": 3
   },
   "file_extension": ".py",
   "mimetype": "text/x-python",
   "name": "python",
   "nbconvert_exporter": "python",
   "pygments_lexer": "ipython3",
   "version": "3.6.1"
  }
 },
 "nbformat": 4,
 "nbformat_minor": 2
}
